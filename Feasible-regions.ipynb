{
 "cells": [
  {
   "cell_type": "code",
   "execution_count": 5,
   "metadata": {},
   "outputs": [],
   "source": [
    "import numpy as np\n",
    "import cvxpy as cp"
   ]
  },
  {
   "cell_type": "code",
   "execution_count": 12,
   "metadata": {},
   "outputs": [
    {
     "data": {
      "text/plain": [
       "{(-1.0, -1.0, 0.0),\n",
       " (-1.0, -1.0, 1.0),\n",
       " (0.0, -1.0, -1.0),\n",
       " (0.0, -1.0, 0.0),\n",
       " (0.0, 0.0, -1.0),\n",
       " (0.0, 0.0, 0.0),\n",
       " (0.0, 0.0, 1.0),\n",
       " (0.0, 99.0, -1.0),\n",
       " (0.0, 99.0, 0.0),\n",
       " (0.0, 99.0, 99.0),\n",
       " (0.0, 99.0, 100.0),\n",
       " (99.0, 99.0, -100.0),\n",
       " (99.0, 99.0, -99.0),\n",
       " (99.0, 99.0, 0.0),\n",
       " (99.0, 99.0, 1.0)}"
      ]
     },
     "execution_count": 12,
     "metadata": {},
     "output_type": "execute_result"
    }
   ],
   "source": [
    "def c(p,m,q,z):\n",
    "    return p/m*q - (p*q+(1-p)*z)\n",
    "\n",
    "combos = set([(c(p,m,q,z), (p/m-1), (p/m*r - c(p,m,q,z) -v)) for p in (0,1) for m in (0.01,1) for q in (0,1) for z in (0,1) for r in (0,1) for v in (0,1)])\n",
    "combos"
   ]
  },
  {
   "cell_type": "code",
   "execution_count": 15,
   "metadata": {},
   "outputs": [],
   "source": [
    "combos_simple = set([(p/m-1, p/m*r-(p/m*q - (p*q+(1-p)*z))-v) for p in (0,1) for m in (0.01,1) for q in (0,1) for z in (0,1) for r in (0,1) for v in (0,1)])\n",
    "combos_v = set([(p/m-1, p/m*r-(p/m*q - (p*q+(1-p)*z))) for p in (0,1) for m in (0.01,1) for q in (0,1) for z in (0,1) for r in (0,1)])\n",
    "\n",
    "combos_new = set([(p/m-1-c(p,m,q,z), p/m*r-c(p,m,q,z)) for p in (0,1) for m in (0.01,1) for q in (0,1) for z in (0,1) for r in (0,1)])\n"
   ]
  },
  {
   "cell_type": "code",
   "execution_count": 16,
   "metadata": {},
   "outputs": [
    {
     "name": "stdout",
     "output_type": "stream",
     "text": [
      "1+(-1.0)*x+y*(0.0-v)>=0\n",
      "1+(-1.0)*x+y*(1.0-v)>=0\n",
      "1+(0.0)*x+y*(0.0-v)>=0\n",
      "1+(0.0)*x+y*(1.0-v)>=0\n",
      "1+(99.0)*x+y*(-99.0-v)>=0\n",
      "1+(99.0)*x+y*(0.0-v)>=0\n",
      "1+(99.0)*x+y*(1.0-v)>=0\n",
      "1+(99.0)*x+y*(100.0-v)>=0\n",
      "\n",
      "1+(-1.0)*x+y*(-1.0)>=0\n",
      "1+(-1.0)*x+y*(0.0)>=0\n",
      "1+(-1.0)*x+y*(1.0)>=0\n",
      "1+(0.0)*x+y*(-1.0)>=0\n",
      "1+(0.0)*x+y*(0.0)>=0\n",
      "1+(0.0)*x+y*(1.0)>=0\n",
      "1+(99.0)*x+y*(-100.0)>=0\n",
      "1+(99.0)*x+y*(-99.0)>=0\n",
      "1+(99.0)*x+y*(-1.0)>=0\n",
      "1+(99.0)*x+y*(0.0)>=0\n",
      "1+(99.0)*x+y*(1.0)>=0\n",
      "1+(99.0)*x+y*(99.0)>=0\n",
      "1+(99.0)*x+y*(100.0)>=0\n",
      "\n",
      "1+(-1.0)*x+y*(0.0-v)>=0\n",
      "1+(0.0)*x+y*(-99.0-v)>=0\n",
      "1+(0.0)*x+y*(0.0-v)>=0\n",
      "1+(0.0)*x+y*(1.0-v)>=0\n",
      "1+(99.0)*x+y*(0.0-v)>=0\n",
      "1+(99.0)*x+y*(100.0-v)>=0\n"
     ]
    }
   ],
   "source": [
    "for cx,cy in sorted(combos_v):\n",
    "    print(f'1+({cx})*x+y*({+cy}-v)>=0')\n",
    "print()\n",
    "#print(sorted(combos_simple))\n",
    "for cx,cy in sorted(combos_simple):\n",
    "    print(f'1+({cx})*x+y*({+cy})>=0')\n",
    "print()\n",
    "for cx,cy in sorted(combos_new):\n",
    "    print(f'1+({cx})*x+y*({+cy}-v)>=0')"
   ]
  },
  {
   "cell_type": "code",
   "execution_count": 6,
   "metadata": {},
   "outputs": [],
   "source": [
    "G=np.array([\n",
    " (-1.0, -1.0, -1.0),\n",
    " (-1.0, -1.0, 0.0),\n",
    " (0.0, -1.0, -1.0),\n",
    " (0.0, -1.0, 0.0),\n",
    " (0.0, 99.0, -1.0),\n",
    " (0.0, 99.0, 100.0),\n",
    " (99.0, 99.0, -1.0),\n",
    " (99.0, 99.0, 100.0),\n",
    " ###\n",
    " (0.0, 0.0, -1.0),\n",
    " (0.0, 0.0, 0.0),\n",
    " (0.0, 0.0, 1.0),\n",
    " (0.0, 99.0, 0.0),\n",
    " (0.0, 99.0, 99.0),\n",
    " (99.0, 99.0, 0.0),\n",
    " (99.0, 99.0, 99.0)\n",
    "])\n",
    "\n",
    "R = np.array([\n",
    "\n",
    "])\n",
    "\n",
    "G2=np.array([(-1.0, 0.0),\n",
    " (-1.0, 1.0),\n",
    " (0.0, 0.0),\n",
    " (0.0, 1.0),\n",
    " (99.0, -99.0),\n",
    " (99.0, 0.0),\n",
    " (99.0, 1.0),\n",
    " (99.0, 100.0)])\n",
    "\n",
    "R2 = np.array([\n",
    "\n",
    "])"
   ]
  },
  {
   "cell_type": "code",
   "execution_count": 7,
   "metadata": {},
   "outputs": [
    {
     "name": "stdout",
     "output_type": "stream",
     "text": [
      "[-1. -1. -1.] -0.9999999834570823\n",
      "[-1. -1.  0.] -0.9999999834051565\n",
      "[ 0. -1. -1.] -0.9999999834576057\n",
      "[ 0. -1.  0.] -0.9999999834027733\n",
      "[ 0. 99. -1.] -0.9999999921714251\n",
      "[  0.  99. 100.] -0.9999999917600422\n",
      "[99. 99. -1.] -0.9999999921713894\n",
      "[ 99.  99. 100.] -0.9999999917619511\n",
      "[ 0.  0. -1.] 5.686443538266417e-10\n",
      "[0. 0. 0.] 1.0\n",
      "[0. 0. 1.] 5.721119133994534e-10\n",
      "[ 0. 99.  0.] 1.901335755505329e-10\n",
      "[ 0. 99. 99.] 1.930569037966734e-10\n",
      "[99. 99.  0.] 1.9013191021599596e-10\n",
      "[99. 99. 99.] 1.9304813303477886e-10\n"
     ]
    }
   ],
   "source": [
    "z = cp.Variable(3)\n",
    "\n",
    "for i,gi in enumerate(G):\n",
    "    Gmi = np.concatenate((G[:i], G[i+1:]))\n",
    "    #print(gi)\n",
    "    obj = cp.Minimize(1+z.T@gi)\n",
    "    cons = [1+Gmi@z >= 0.0]\n",
    "    problem = cp.Problem(obj,cons)\n",
    "    problem.solve()\n",
    "    #if problem.value > 0.49:\n",
    "    print(gi, problem.value)"
   ]
  },
  {
   "cell_type": "code",
   "execution_count": 8,
   "metadata": {},
   "outputs": [
    {
     "name": "stdout",
     "output_type": "stream",
     "text": [
      "[-1.  0.] -inf\n",
      "[-1.  1.] 6.992992851451163e-10\n",
      "[0. 0.] 1.0\n",
      "[0. 1.] 0.7487437203436901\n",
      "[ 99. -99.] -inf\n",
      "[99.  0.] 0.4999999999650564\n",
      "[99.  1.] 0.4999999999653658\n",
      "[ 99. 100.] -48.99999998526398\n"
     ]
    }
   ],
   "source": [
    "z = cp.Variable(2)\n",
    "\n",
    "for i,gi in enumerate(G2):\n",
    "    Gmi = np.concatenate((G2[:i], G2[i+1:]))\n",
    "    #print(gi)\n",
    "    obj = cp.Minimize(1+z.T@gi)\n",
    "    cons = [1+Gmi@z >= 0.5]\n",
    "    problem = cp.Problem(obj,cons)\n",
    "    problem.solve()\n",
    "    #if problem.value > 0.49:\n",
    "    print(gi, problem.value)"
   ]
  },
  {
   "cell_type": "code",
   "execution_count": 20,
   "metadata": {},
   "outputs": [
    {
     "name": "stdout",
     "output_type": "stream",
     "text": [
      "w,r,c\n",
      "0.0 0 0.0\n",
      "0.0 1 0.0\n",
      "0.0 0 -1.0\n",
      "0.0 1 -1.0\n",
      "0.0 0 0.0\n",
      "0.0 1 0.0\n",
      "0.0 0 -1.0\n",
      "0.0 1 -1.0\n",
      "0.0 0 0.0\n",
      "0.0 1 0.0\n",
      "0.0 0 -1.0\n",
      "0.0 1 -1.0\n",
      "0.0 0 0.0\n",
      "0.0 1 0.0\n",
      "0.0 0 -1.0\n",
      "0.0 1 -1.0\n",
      "100.0 0 0.0\n",
      "100.0 1 0.0\n",
      "100.0 0 0.0\n",
      "100.0 1 0.0\n",
      "100.0 0 99.0\n",
      "100.0 1 99.0\n",
      "100.0 0 99.0\n",
      "100.0 1 99.0\n",
      "1.0 0 0.0\n",
      "1.0 1 0.0\n",
      "1.0 0 0.0\n",
      "1.0 1 0.0\n",
      "1.0 0 0.0\n",
      "1.0 1 0.0\n",
      "1.0 0 0.0\n",
      "1.0 1 0.0\n"
     ]
    }
   ],
   "source": [
    "print('w,r,c')\n",
    "for p in (0,1):\n",
    "    for m in (0.01,1): \n",
    "        for q in (0,1):\n",
    "            for z in (0,1):\n",
    "                for r in (0,1):\n",
    "                    print(p/m,r,c(p,m,q,z))"
   ]
  },
  {
   "cell_type": "code",
   "execution_count": 91,
   "metadata": {},
   "outputs": [
    {
     "data": {
      "text/plain": [
       "{(-1.0, -1.0, 1.0),\n",
       " (0.0, -1.0, 0.0),\n",
       " (0.0, 0.0, 0.0),\n",
       " (0.0, 0.0, 1.0),\n",
       " (0.0, 99.0, 0.0),\n",
       " (0.0, 99.0, 100.0),\n",
       " (99.0, 99.0, -99.0),\n",
       " (99.0, 99.0, 1.0)}"
      ]
     },
     "execution_count": 91,
     "metadata": {},
     "output_type": "execute_result"
    }
   ],
   "source": [
    "combos_all = set([(c(p,m,q,z), p/m-1, p/m*r-c(p,m,q,z)) for p in (0,1) for m in (0.01,1) for q in (0.,1) for z in (0.,1.) for r in (0,1)])\n",
    "combos_all"
   ]
  },
  {
   "cell_type": "code",
   "execution_count": 36,
   "metadata": {},
   "outputs": [
    {
     "data": {
      "text/plain": [
       "{(-1.0, -1.0, 0.0),\n",
       " (0.0, -1.0, 0.0),\n",
       " (0.0, 0.0, 0.0),\n",
       " (0.0, 0.0, 1.0),\n",
       " (0.0, 99.0, 0.0),\n",
       " (99.0, 99.0, 100.0)}"
      ]
     },
     "execution_count": 36,
     "metadata": {},
     "output_type": "execute_result"
    }
   ],
   "source": [
    "combos_easy = set([(c(p,m,q,z), p/m-1, p/m*r) for p in (0,1) for m in (0.01,1) for q in (0,1) for z in (0,1) for r in (q,)])\n",
    "combos_easy"
   ]
  },
  {
   "cell_type": "code",
   "execution_count": 92,
   "metadata": {},
   "outputs": [
    {
     "data": {
      "text/plain": [
       "array([[ -1.,  -1.,   1.],\n",
       "       [  0.,  -1.,   0.],\n",
       "       [  0.,   0.,   0.],\n",
       "       [  0.,   0.,   1.],\n",
       "       [  0.,  99.,   0.],\n",
       "       [  0.,  99., 100.],\n",
       "       [ 99.,  99., -99.],\n",
       "       [ 99.,  99.,   1.]])"
      ]
     },
     "execution_count": 92,
     "metadata": {},
     "output_type": "execute_result"
    }
   ],
   "source": [
    "G = np.array([(-1.0, -1.0, 0.0),\n",
    " (0.0, -1.0, 0.0),\n",
    " (0.0, 0.0, 0.0),\n",
    " (0.0, 0.0, 1.0),\n",
    " (0.0, 99.0, 0.0),\n",
    " (0.0, 99.0, 100.0),\n",
    " (99.0, 99.0, 0.0),\n",
    " (99.0, 99.0, 100.0)])\n",
    "\n",
    "F = np.array([(-1.0, -1.0, 0.0),\n",
    " (0.0, -1.0, 0.0),\n",
    " (0.0, 0.0, 0.0),\n",
    " (0.0, 0.0, 1.0),\n",
    " (0.0, 99.0, 0.0),\n",
    " (99.0, 99.0, 100.0)])\n",
    "\n",
    "H = np.array([(-1.0, -1.0, 1.0),\n",
    " (0.0, -1.0, 0.0),\n",
    " (0.0, 0.0, 0.0),\n",
    " (0.0, 0.0, 1.0),\n",
    " (0.0, 99.0, 0.0),\n",
    " (0.0, 99.0, 100.0),\n",
    " (99.0, 99.0, -99.0),\n",
    " (99.0, 99.0, 1.0)])\n",
    "\n",
    "H"
   ]
  },
  {
   "cell_type": "code",
   "execution_count": 93,
   "metadata": {},
   "outputs": [
    {
     "name": "stdout",
     "output_type": "stream",
     "text": [
      "0.5 [-0.5  0.5 -0.5] 0 -0.5\n",
      "0.75 [-0.25  0.25 -0.25] 0 -0.25\n",
      "1.0 [0. 0. 0.] 0 0\n",
      "1.0 [0.25 0.   0.25] 0 0.25\n",
      "1.0 [ 0.5 -0.   0.5] 0 0.5\n",
      "0.63 [-0.5  0.5 -0.5] 0.25 -0.5\n",
      "0.81 [-0.25  0.25 -0.25] 0.25 -0.25\n",
      "1.0 [0. 0. 0.] 0.25 0\n",
      "0.94 [0.25 0.   0.25] 0.25 0.25\n",
      "0.88 [ 0.5 -0.   0.5] 0.25 0.5\n",
      "0.75 [-0.5  0.5 -0.5] 0.5 -0.5\n",
      "0.88 [-0.25  0.25 -0.25] 0.5 -0.25\n",
      "1.0 [0. 0. 0.] 0.5 0\n",
      "0.88 [0.25 0.   0.25] 0.5 0.25\n",
      "0.75 [ 0.5 -0.   0.5] 0.5 0.5\n",
      "0.88 [-0.5  0.5 -0.5] 0.75 -0.5\n",
      "0.94 [-0.25  0.25 -0.25] 0.75 -0.25\n",
      "1.0 [-0.  0. -0.] 0.75 0\n",
      "0.81 [0.25 0.   0.25] 0.75 0.25\n",
      "0.63 [ 0.5 -0.   0.5] 0.75 0.5\n",
      "1.0 [-0.5  0.5 -0.5] 1 -0.5\n",
      "1.0 [-0.25  0.25 -0.25] 1 -0.25\n",
      "1.0 [-0.  0. -0.] 1 0\n",
      "0.75 [0.25 0.   0.25] 1 0.25\n",
      "0.5 [ 0.5 -0.   0.5] 1 0.5\n"
     ]
    }
   ],
   "source": [
    "z = cp.Variable(3)\n",
    "\n",
    "for v in (0,0.25,0.5,0.75,1):\n",
    "    for z2 in (-0.5,-0.25,0,0.25,0.5):\n",
    "        obj = cp.Maximize(cp.min(1+H@z-v*z[2]))\n",
    "        problem = cp.Problem(obj,[ z[2]==z2])\n",
    "        problem.solve()\n",
    "        print(np.round(problem.value,2),np.round(z.value,2),np.round(v,2),np.round(z2,2),)"
   ]
  },
  {
   "cell_type": "code",
   "execution_count": 106,
   "metadata": {
    "scrolled": true
   },
   "outputs": [
    {
     "name": "stdout",
     "output_type": "stream",
     "text": [
      "[0. 1.] 0.500000000432267\n",
      "[0. 0.] 1.0\n",
      "[-1.  0.] 5.0290528408325486e-09\n",
      "[99. 99.] 0.5000000008526408\n",
      "[99.  0.] 0.5000000008528989\n",
      "[99. -1.] 4.00054434024355e-11\n",
      "[-1. -1.] 5.138121483838631e-09\n",
      "[ 0. -1.] 0.5000000004287547\n",
      "[ 99. 100.] 4.056799340901307e-11\n",
      "\n",
      "[-1.  0.] -49.499999889056916\n",
      "[99. -1.] -inf\n",
      "[-1. -1.] -49.4999998901928\n",
      "[ 99. 100.] -inf\n"
     ]
    }
   ],
   "source": [
    "combos_0 = set([(p/m-1, p/m*r-c(p,m,q,z)-v) for p in (0,1) for m in (0.01,1) for q in (0.,) for z in (0.,) for r in (0,1) for v in (0,1)])\n",
    "G0 = np.array(list(combos_0))\n",
    "\n",
    "z = cp.Variable(2)\n",
    "\n",
    "for i,gi in enumerate(G0):\n",
    "    Gmi = np.concatenate((G0[:i], G0[i+1:]))\n",
    "    obj = cp.Minimize(1+z.T@gi)\n",
    "    cons = [1+Gmi@z >= 0.5]\n",
    "    problem = cp.Problem(obj,cons)\n",
    "    problem.solve()\n",
    "    print(gi, problem.value)\n",
    "    \n",
    "Gred0 = G0[[2,5,6,8],:]\n",
    "print()\n",
    "for i,gi in enumerate(Gred0):\n",
    "    Gmi = np.concatenate((Gred0[:i], Gred0[i+1:]))\n",
    "    obj = cp.Minimize(1+z.T@gi)\n",
    "    cons = [1+Gmi@z >= 0.5]\n",
    "    problem = cp.Problem(obj,cons)\n",
    "    problem.solve()\n",
    "    print(gi, problem.value)"
   ]
  },
  {
   "cell_type": "code",
   "execution_count": 109,
   "metadata": {},
   "outputs": [
    {
     "name": "stdout",
     "output_type": "stream",
     "text": [
      "[0. 1.] 1.0000000001799407\n",
      "[-1.  1.] 0.5000000033097689\n",
      "[0. 0.] 1.0\n",
      "[-1.  0.] -inf\n",
      "[99.  0.] 0.4999999999535618\n",
      "[99.  1.] 0.4999999999522997\n",
      "[ 99. -99.] -inf\n",
      "[ 99. 100.] 0.4999999999935354\n",
      "\n",
      "[-1.  0.] -inf\n",
      "[ 99. -99.] -inf\n"
     ]
    }
   ],
   "source": [
    "combos_non0 = set([(p/m-1, p/m*r-c(p,m,q,z)) for p in (0,1) for m in (0.01,1) for q in (0.,1.) for z in (0.,1.) for r in (0,1) for v in (0,1)])\n",
    "\n",
    "G_non0 = np.array(list(combos_non0))\n",
    "\n",
    "z = cp.Variable(2)\n",
    "\n",
    "for i,gi in enumerate(G_non0):\n",
    "    Gmi = np.concatenate((G_non0[:i], G_non0[i+1:]))\n",
    "    obj = cp.Minimize(1+z.T@gi)\n",
    "    cons = [1+Gmi@z >= 0.5, z[1]>=0]\n",
    "    problem = cp.Problem(obj,cons)\n",
    "    problem.solve()\n",
    "    print(gi, problem.value)\n",
    "    \n",
    "Gred_non0 = G_non0[[3,6],:]\n",
    "print()\n",
    "for i,gi in enumerate(Gred_non0):\n",
    "    Gmi = np.concatenate((Gred_non0[:i], Gred_non0[i+1:]))\n",
    "    obj = cp.Minimize(1+z.T@gi)\n",
    "    cons = [1+Gmi@z >= 0.5, z[1]>=0]\n",
    "    problem = cp.Problem(obj,cons)\n",
    "    problem.solve()\n",
    "    print(gi, problem.value)"
   ]
  },
  {
   "cell_type": "code",
   "execution_count": 110,
   "metadata": {},
   "outputs": [
    {
     "data": {
      "text/plain": [
       "array([[  0.,   1.],\n",
       "       [ -1.,   1.],\n",
       "       [  0.,   0.],\n",
       "       [ -1.,   0.],\n",
       "       [ 99.,   0.],\n",
       "       [ 99.,   1.],\n",
       "       [ 99., -99.],\n",
       "       [ 99., 100.]])"
      ]
     },
     "execution_count": 110,
     "metadata": {},
     "output_type": "execute_result"
    }
   ],
   "source": [
    "G_non0"
   ]
  },
  {
   "cell_type": "code",
   "execution_count": null,
   "metadata": {},
   "outputs": [],
   "source": []
  }
 ],
 "metadata": {
  "kernelspec": {
   "display_name": "Python 3",
   "language": "python",
   "name": "python3"
  },
  "language_info": {
   "codemirror_mode": {
    "name": "ipython",
    "version": 3
   },
   "file_extension": ".py",
   "mimetype": "text/x-python",
   "name": "python",
   "nbconvert_exporter": "python",
   "pygments_lexer": "ipython3",
   "version": "3.7.9"
  }
 },
 "nbformat": 4,
 "nbformat_minor": 4
}
