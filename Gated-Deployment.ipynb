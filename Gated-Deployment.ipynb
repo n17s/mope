{
 "cells": [
  {
   "cell_type": "code",
   "execution_count": 263,
   "metadata": {},
   "outputs": [],
   "source": [
    "%reload_ext autoreload\n",
    "%reload_ext line_profiler\n",
    "%autoreload 2\n",
    "\n",
    "import numpy as np\n",
    "from joblib import Memory\n",
    "from sklearn.datasets import load_svmlight_file\n",
    "from sklearn.kernel_approximation import RBFSampler\n",
    "from scipy.spatial.distance import pdist\n",
    "import tqdm\n",
    "\n"
   ]
  },
  {
   "cell_type": "code",
   "execution_count": 1,
   "metadata": {},
   "outputs": [
    {
     "name": "stdout",
     "output_type": "stream",
     "text": [
      "________________________________________________________________________________\n",
      "[Memory] Calling __main__-C%3A-Users-nikosk.REDMOND-Desktop-projects-pycharm-opebet-%3Cipython-input-cb5b6702a785%3E.get_data...\n",
      "get_data()\n",
      "_______________________________________________________get_data - 121.9s, 2.0min\n"
     ]
    }
   ],
   "source": [
    "mem = Memory(\"./mycache\")\n",
    "\n",
    "@mem.cache\n",
    "def get_data():\n",
    "    data = load_svmlight_file(\"/Users/nikosk.REDMOND/Downloads/xaa\")\n",
    "    return data[0], data[1]\n",
    "\n",
    "X, y = get_data()"
   ]
  },
  {
   "cell_type": "code",
   "execution_count": 5,
   "metadata": {},
   "outputs": [],
   "source": [
    "x = X.todense().A.astype(np.float32)\n",
    "del X\n",
    "x /= 255.\n",
    "xx = x.T@x"
   ]
  },
  {
   "cell_type": "code",
   "execution_count": 6,
   "metadata": {},
   "outputs": [
    {
     "name": "stdout",
     "output_type": "stream",
     "text": [
      "0.94979686\n",
      "37820956.0\n",
      "37820960.0\n",
      "8159595.0\n",
      "37819732.0\n"
     ]
    }
   ],
   "source": [
    "d,v = np.linalg.eigh(xx)\n",
    "perm = np.argsort(-d)\n",
    "print((np.cumsum(d[perm])/sum(d))[100])\n",
    "print( np.linalg.norm(v.T@xx@v,'fro'))\n",
    "print( np.linalg.norm(v[:,perm[:-1]].T@xx@v[:,perm[:-1]],'fro'))\n",
    "print( np.linalg.norm(v[:,perm[1:]].T@xx@v[:,perm[1:]],'fro'))\n",
    "print( np.linalg.norm(v[:,perm[:100]].T@xx@v[:,perm[:100]],'fro'))\n",
    "vv = v[:,perm[:50]]"
   ]
  },
  {
   "cell_type": "code",
   "execution_count": 33,
   "metadata": {},
   "outputs": [],
   "source": [
    "#vv = vv[:,:50]"
   ]
  },
  {
   "cell_type": "code",
   "execution_count": 22,
   "metadata": {},
   "outputs": [
    {
     "name": "stdout",
     "output_type": "stream",
     "text": [
      "float32\n"
     ]
    }
   ],
   "source": [
    "xv = x@vv\n",
    "del x\n",
    "print(xv.dtype)"
   ]
  },
  {
   "cell_type": "code",
   "execution_count": 34,
   "metadata": {},
   "outputs": [
    {
     "name": "stdout",
     "output_type": "stream",
     "text": [
      "0.012065846657620543\n",
      "float32\n"
     ]
    }
   ],
   "source": [
    "class RFF():\n",
    "    def __init__(self, x, gamma=None, n_components=None, seed=90210):\n",
    "        n, d = x.shape\n",
    "        self.d = d\n",
    "        self.c = n_components if n_components is not None else int(np.round(np.sqrt(n)))\n",
    "        self.seed = seed\n",
    "        self.rs = np.random.RandomState(self.seed)\n",
    "        if gamma is None:\n",
    "            n_samples = min(n, 1000)\n",
    "            perm = self.rs.permutation(n)[:n_samples]\n",
    "            gamma = np.median(pdist(x[perm]).ravel())**(-2) \n",
    "        print(gamma)\n",
    "        self.gamma = gamma\n",
    "        self.omega = self.rs.normal(size=(d, self.c)).astype(np.float32)\n",
    "        self.omega *= np.sqrt(2 * self.gamma)\n",
    "        self.b = self.rs.uniform(0, 2*np.pi, size=self.c).astype(np.float32)\n",
    "        self.normalizer = np.sqrt(2./self.c)\n",
    "    \n",
    "    def __call__(self,x):\n",
    "        projection = np.dot(x, self.omega) + self.b\n",
    "        np.cos(projection, projection)\n",
    "        projection *= self.normalizer\n",
    "        return projection\n",
    "\n",
    "rff = RFF(xv)\n",
    "rffxv = rff(xv)\n",
    "print(rffxv.dtype)"
   ]
  },
  {
   "cell_type": "code",
   "execution_count": 24,
   "metadata": {},
   "outputs": [],
   "source": [
    "from sklearn.preprocessing import OneHotEncoder\n",
    "ohe = OneHotEncoder(sparse=False).fit(y.reshape(-1,1))\n",
    "y = ohe.transform(y.reshape(-1,1))"
   ]
  },
  {
   "cell_type": "code",
   "execution_count": 25,
   "metadata": {},
   "outputs": [
    {
     "data": {
      "text/plain": [
       "(1000000, 10)"
      ]
     },
     "execution_count": 25,
     "metadata": {},
     "output_type": "execute_result"
    }
   ],
   "source": [
    "y.shape"
   ]
  },
  {
   "cell_type": "code",
   "execution_count": 35,
   "metadata": {},
   "outputs": [],
   "source": [
    "rxx=np.dot(rffxv.T,rffxv)"
   ]
  },
  {
   "cell_type": "code",
   "execution_count": 36,
   "metadata": {},
   "outputs": [],
   "source": [
    "from scipy.linalg import cho_factor, cho_solve\n",
    "rcf = cho_factor(rxx+1e-12*np.eye(rxx.shape[0]))"
   ]
  },
  {
   "cell_type": "code",
   "execution_count": 38,
   "metadata": {},
   "outputs": [],
   "source": [
    "def agd(x,y,c=None):\n",
    "    nx, d = x.shape\n",
    "    ny, k = y.shape \n",
    "    assert nx == ny\n",
    "    n = nx\n",
    "    from scipy.linalg import cho_factor, cho_solve\n",
    "    if c is None:\n",
    "        xx=np.dot(x.T,x)\n",
    "        c = cho_factor(xx+1e-12*np.eye(xx.shape[0]))\n",
    "    li, nextli = (1,1)\n",
    "    u = np.zeros((d,k), dtype=np.float32)\n",
    "    w = np.zeros((d,k), dtype=np.float32)\n",
    "    t = np.zeros((d,k), dtype=np.float32)\n",
    "    p = np.zeros((n,k), dtype=np.float32)\n",
    "    z = np.zeros(n, dtype=np.float32)\n",
    "    g = np.zeros((d,k), dtype=np.float32)\n",
    "    for i in range(100):\n",
    "        np.dot(x, u, out=p)\n",
    "        np.max(p, axis=1, out=z)\n",
    "        p -= z.reshape(-1,1)\n",
    "        np.exp(p, out=p)\n",
    "        np.sum(p, axis=1, out=z)\n",
    "        p /= z.reshape(-1,1)\n",
    "        p -= y\n",
    "        np.dot(x.T, p, out=g)\n",
    "        gnorm = np.sum(g*g)/(n*d*k)  \n",
    "        print(i, gnorm)\n",
    "        if gnorm < 1e-4:\n",
    "            break\n",
    "        gi = (1-li) / nextli\n",
    "        t[:] = gi * w[:]                    \n",
    "        np.subtract(u, cho_solve(c,g), out=w)\n",
    "        np.add((1-gi) * w, t, out=u)\n",
    "        li=nextli\n",
    "        nextli=(1+np.sqrt(1+4*li*li))/2;\n",
    "    return w"
   ]
  },
  {
   "cell_type": "code",
   "execution_count": 39,
   "metadata": {
    "scrolled": true
   },
   "outputs": [
    {
     "name": "stdout",
     "output_type": "stream",
     "text": [
      "0 0.8397011968\n",
      "1 0.6272526336\n",
      "2 0.3982569472\n",
      "3 0.2001848832\n",
      "4 0.0937900288\n",
      "5 0.0461673024\n",
      "6 0.024591752\n",
      "7 0.0141343456\n",
      "8 0.0086822784\n",
      "9 0.005644428\n",
      "10 0.0038504224\n",
      "11 0.0027363602\n",
      "12 0.0020139426\n",
      "13 0.0015277166\n",
      "14 0.0011897791\n",
      "15 0.0009482657\n",
      "16 0.00077138905\n",
      "17 0.0006389986\n",
      "18 0.0005379341\n",
      "19 0.00045937285\n",
      "20 0.00039726725\n",
      "21 0.0003473893\n",
      "22 0.000306734125\n",
      "23 0.000273135725\n",
      "24 0.00024501295\n",
      "25 0.000221197725\n",
      "26 0.000200817375\n",
      "27 0.000183213975\n",
      "28 0.000167885375\n",
      "29 0.00015444425\n",
      "30 0.000142587175\n",
      "31 0.0001320738875\n",
      "32 0.0001227113\n",
      "33 0.00011434235\n",
      "34 0.0001068365875\n",
      "35 0.00010008544375\n",
      "36 9.39968875e-05\n"
     ]
    }
   ],
   "source": [
    "w = agd(rffxv,y,c=rcf)"
   ]
  },
  {
   "cell_type": "code",
   "execution_count": 40,
   "metadata": {},
   "outputs": [
    {
     "data": {
      "text/plain": [
       "0.972201"
      ]
     },
     "execution_count": 40,
     "metadata": {},
     "output_type": "execute_result"
    }
   ],
   "source": [
    "from sklearn.metrics import accuracy_score\n",
    "am = np.argmax(rffxv@w, axis=1)\n",
    "y_pred = np.zeros((rffxv.shape[0], y.shape[1]))\n",
    "y_pred[range(rffxv.shape[0]), am] = 1\n",
    "accuracy_score(y, y_pred)"
   ]
  },
  {
   "cell_type": "code",
   "execution_count": 66,
   "metadata": {},
   "outputs": [
    {
     "data": {
      "text/plain": [
       "0.961368"
      ]
     },
     "execution_count": 66,
     "metadata": {},
     "output_type": "execute_result"
    }
   ],
   "source": []
  },
  {
   "cell_type": "code",
   "execution_count": 44,
   "metadata": {},
   "outputs": [],
   "source": [
    "def agdilr(x,y,c=None):\n",
    "    nx, d = x.shape\n",
    "    ny, k = y.shape \n",
    "    assert nx == ny\n",
    "    n = nx\n",
    "    from scipy.linalg import cho_factor, cho_solve\n",
    "    from scipy.special import expit\n",
    "    if c is None:\n",
    "        xx=np.dot(x.T,x)\n",
    "        c = cho_factor(xx+1e-12*np.eye(xx.shape[0]))\n",
    "    li, nextli = (1,1)\n",
    "    u = np.zeros((d,k), dtype=np.float32)\n",
    "    w = np.zeros((d,k), dtype=np.float32)\n",
    "    t = np.zeros((d,k), dtype=np.float32)\n",
    "    p = np.zeros((n,k), dtype=np.float32)\n",
    "    z = np.zeros(n, dtype=np.float32)\n",
    "    g = np.zeros((d,k), dtype=np.float32)\n",
    "    for i in range(100):\n",
    "        np.dot(x, u, out=p)\n",
    "        expit(p, p)\n",
    "        p -= y\n",
    "        np.dot(x.T, p, out=g)\n",
    "        gnorm = np.sum(g*g)/(n*d*k)  \n",
    "        print(i, gnorm)\n",
    "        if gnorm < 1e-4:\n",
    "            break\n",
    "        gi = (1-li) / nextli\n",
    "        t[:] = gi * w[:]                    \n",
    "        np.subtract(u, cho_solve(c,g), out=w)\n",
    "        np.add((1-gi) * w, t, out=u)\n",
    "        li=nextli\n",
    "        nextli=(1+np.sqrt(1+4*li*li))/2;\n",
    "    return w"
   ]
  },
  {
   "cell_type": "code",
   "execution_count": 45,
   "metadata": {},
   "outputs": [
    {
     "name": "stdout",
     "output_type": "stream",
     "text": [
      "0 61.221535744\n",
      "1 34.9249339392\n",
      "2 21.1837599744\n",
      "3 12.1602449408\n",
      "4 6.9052243968\n",
      "5 3.9821623296\n",
      "6 2.3633063936\n",
      "7 1.451759616\n",
      "8 0.924770816\n",
      "9 0.6106794496\n",
      "10 0.4174431488\n",
      "11 0.2947483904\n",
      "12 0.2144180608\n",
      "13 0.1602549248\n",
      "14 0.1227004672\n",
      "15 0.0959671104\n",
      "16 0.07646272\n",
      "17 0.0619049088\n",
      "18 0.0508106496\n",
      "19 0.042195632\n",
      "20 0.0353931904\n",
      "21 0.0299427616\n",
      "22 0.025520064\n",
      "23 0.0218922992\n",
      "24 0.0188891616\n",
      "25 0.016383816\n",
      "26 0.01428\n",
      "27 0.0125034536\n",
      "28 0.0109959736\n",
      "29 0.0097112688\n",
      "30 0.0086120888\n",
      "31 0.007668132\n",
      "32 0.006854552\n",
      "33 0.0061508028\n",
      "34 0.00553984\n",
      "35 0.005007442\n",
      "36 0.0045417148\n",
      "37 0.0041327036\n",
      "38 0.0037720648\n",
      "39 0.0034527712\n",
      "40 0.0031689296\n",
      "41 0.002915585\n",
      "42 0.0026885764\n",
      "43 0.0024843836\n",
      "44 0.002300063\n",
      "45 0.0021331194\n",
      "46 0.0019814444\n",
      "47 0.001843248\n",
      "48 0.0017170044\n",
      "49 0.0016014191\n",
      "50 0.0014953741\n",
      "51 0.0013979014\n",
      "52 0.001308166\n",
      "53 0.0012254412\n",
      "54 0.0011490768\n",
      "55 0.0010785011\n",
      "56 0.0010132093\n",
      "57 0.0009527435\n",
      "58 0.0008966938\n",
      "59 0.0008446908\n",
      "60 0.0007963991\n",
      "61 0.0007515114\n",
      "62 0.000709753\n",
      "63 0.0006708639\n",
      "64 0.00063461685\n",
      "65 0.00060079955\n",
      "66 0.00056921835\n",
      "67 0.00053969645\n",
      "68 0.00051207075\n",
      "69 0.0004861931\n",
      "70 0.0004619289\n",
      "71 0.00043915315\n",
      "72 0.00041775655\n",
      "73 0.000397634225\n",
      "74 0.0003786929\n",
      "75 0.0003608463\n",
      "76 0.00034401905\n",
      "77 0.00032813965\n",
      "78 0.0003131419\n",
      "79 0.000298969175\n",
      "80 0.000285565725\n",
      "81 0.000272882\n",
      "82 0.000260871325\n",
      "83 0.000249492225\n",
      "84 0.000238705575\n",
      "85 0.0002284769\n",
      "86 0.00021877205\n",
      "87 0.0002095601625\n",
      "88 0.0002008131875\n",
      "89 0.00019250305\n",
      "90 0.00018460625\n",
      "91 0.0001770981375\n",
      "92 0.00016995785\n",
      "93 0.0001631644\n",
      "94 0.000156697075\n",
      "95 0.0001505384625\n",
      "96 0.000144671075\n",
      "97 0.0001390786\n",
      "98 0.000133745675\n",
      "99 0.0001286571\n"
     ]
    }
   ],
   "source": [
    "q = agdilr(rffxv,y,c=rcf)"
   ]
  },
  {
   "cell_type": "code",
   "execution_count": 47,
   "metadata": {},
   "outputs": [
    {
     "name": "stdout",
     "output_type": "stream",
     "text": [
      "0 0.997228\n",
      "1 0.998195\n",
      "2 0.991589\n",
      "3 0.990065\n",
      "4 0.992592\n",
      "5 0.991161\n",
      "6 0.995679\n",
      "7 0.992974\n",
      "8 0.985472\n",
      "9 0.984788\n"
     ]
    }
   ],
   "source": [
    "from sklearn.metrics import accuracy_score\n",
    "from scipy.special import expit\n",
    "hot = expit(rffxv@q)\n",
    "for i in range(10):\n",
    "    y_pred = hot[:,i]>0.5\n",
    "    print(i,accuracy_score(y[:,i], y_pred))"
   ]
  },
  {
   "cell_type": "code",
   "execution_count": 48,
   "metadata": {},
   "outputs": [
    {
     "name": "stdout",
     "output_type": "stream",
     "text": [
      "0 1603.230629888\n",
      "1 1263.608922112\n",
      "2 950.19204608\n",
      "3 644.2008576\n",
      "4 419.37453056\n",
      "5 277.317189632\n",
      "6 189.474684928\n",
      "7 133.55880448\n",
      "8 96.842244096\n",
      "9 72.175280128\n",
      "10 55.305801728\n",
      "11 43.58098944\n",
      "12 35.296559104\n",
      "13 29.335875584\n",
      "14 24.955824128\n",
      "15 21.65480448\n",
      "16 19.09192704\n",
      "17 17.035148288\n",
      "18 15.328275456\n",
      "19 13.868148736\n",
      "20 12.58890752\n",
      "21 11.449623552\n",
      "22 10.425668608\n",
      "23 9.502058496\n",
      "24 8.6690048\n",
      "25 7.919021568\n",
      "26 7.2455552\n",
      "27 6.641996288\n",
      "28 6.101702144\n",
      "29 5.617986048\n",
      "30 5.1842688\n",
      "31 4.794212352\n",
      "32 4.441944576\n",
      "33 4.122116096\n",
      "34 3.830009344\n",
      "35 3.561547008\n",
      "36 3.313306624\n",
      "37 3.082529024\n",
      "38 2.867016704\n",
      "39 2.665133568\n",
      "40 2.47570944\n",
      "41 2.297939712\n",
      "42 2.131324032\n",
      "43 1.975548032\n",
      "44 1.8304064\n",
      "45 1.69573312\n",
      "46 1.571302016\n",
      "47 1.45681536\n",
      "48 1.351875328\n",
      "49 1.255970048\n",
      "50 1.16848576\n",
      "51 1.08874112\n",
      "52 1.0160128\n",
      "53 0.949566464\n",
      "54 0.888674752\n",
      "55 0.832657088\n",
      "56 0.780882432\n",
      "57 0.732794816\n",
      "58 0.68791744\n",
      "59 0.645847296\n",
      "60 0.606257536\n",
      "61 0.568894016\n",
      "62 0.533566016\n",
      "63 0.500133216\n",
      "64 0.46850144\n",
      "65 0.438605344\n",
      "66 0.410406464\n",
      "67 0.383879584\n",
      "68 0.359005504\n",
      "69 0.335780096\n",
      "70 0.314183744\n",
      "71 0.29420448\n",
      "72 0.275813056\n",
      "73 0.258974848\n",
      "74 0.243646704\n",
      "75 0.2297636\n",
      "76 0.217254048\n",
      "77 0.206029088\n",
      "78 0.195991552\n",
      "79 0.187041008\n",
      "80 0.179059472\n",
      "81 0.171933312\n",
      "82 0.165547424\n",
      "83 0.159795568\n",
      "84 0.154573536\n",
      "85 0.149789488\n",
      "86 0.145359456\n",
      "87 0.141217616\n",
      "88 0.13731296\n",
      "89 0.13360064\n",
      "90 0.13005716\n",
      "91 0.12666352\n",
      "92 0.123411864\n",
      "93 0.120299424\n",
      "94 0.117332128\n",
      "95 0.114513424\n",
      "96 0.111853024\n",
      "97 0.109354712\n",
      "98 0.10702308\n",
      "99 0.10486064\n"
     ]
    }
   ],
   "source": [
    "wlin = agd(xv,y)"
   ]
  },
  {
   "cell_type": "code",
   "execution_count": 49,
   "metadata": {},
   "outputs": [
    {
     "data": {
      "text/plain": [
       "0.84299"
      ]
     },
     "execution_count": 49,
     "metadata": {},
     "output_type": "execute_result"
    }
   ],
   "source": [
    "from sklearn.metrics import accuracy_score\n",
    "am = np.argmax(xv@wlin, axis=1)\n",
    "y_pred = np.zeros((xv.shape[0], y.shape[1]))\n",
    "y_pred[range(xv.shape[0]), am] = 1\n",
    "accuracy_score(y, y_pred)"
   ]
  },
  {
   "cell_type": "code",
   "execution_count": 50,
   "metadata": {},
   "outputs": [],
   "source": [
    "np.savez('mnist_models.npz',v=vv,omega=rff.omega,b=rff.b,z=rff.normalizer,wlin=wlin,w=w,q=q)"
   ]
  },
  {
   "cell_type": "code",
   "execution_count": 56,
   "metadata": {},
   "outputs": [
    {
     "name": "stdout",
     "output_type": "stream",
     "text": [
      "v 50.000004\n",
      "omega 1218.599\n",
      "b 13269.479\n",
      "z 0.002\n",
      "wlin 122.612854\n",
      "w 245522.19\n",
      "q 669745.25\n"
     ]
    }
   ],
   "source": [
    "with np.load('mnist_models.npz') as npz:\n",
    "    for i in npz:\n",
    "        foo = npz[i].ravel()\n",
    "        print(i, np.sum(foo*foo))"
   ]
  },
  {
   "cell_type": "code",
   "execution_count": 67,
   "metadata": {},
   "outputs": [
    {
     "name": "stdout",
     "output_type": "stream",
     "text": [
      "In <class 'list'>\n",
      "Memory <class 'type'>\n",
      "OneHotEncoder <class 'type'>\n",
      "Out <class 'dict'>\n",
      "RBFSampler <class 'type'>\n",
      "RFF <class 'type'>\n",
      "accuracy_score <class 'function'>\n",
      "agd <class 'function'>\n",
      "agdilr <class 'function'>\n",
      "cho_factor <class 'function'>\n",
      "cho_solve <class 'function'>\n",
      "exit <class 'IPython.core.autocall.ZMQExitAutocall'>\n",
      "expit <class 'numpy.ufunc'>\n",
      "gamma <class 'numpy.float64'>\n",
      "get_data <class 'joblib.memory.MemorizedFunc'>\n",
      "get_ipython <class 'method'>\n",
      "i <class 'str'>\n",
      "load_svmlight_file <class 'function'>\n",
      "mem <class 'joblib.memory.Memory'>\n",
      "name <class 'str'>\n",
      "np <class 'module'>\n",
      "npz <class 'numpy.lib.npyio.NpzFile'>\n",
      "ohe <class 'sklearn.preprocessing._encoders.OneHotEncoder'>\n",
      "pdist <class 'function'>\n",
      "quit <class 'IPython.core.autocall.ZMQExitAutocall'>\n",
      "rcf <class 'tuple'>\n",
      "rff <class '__main__.RFF'>\n",
      "sampler <class 'sklearn.kernel_approximation.RBFSampler'>\n"
     ]
    }
   ],
   "source": [
    "for name in dir():\n",
    "    if name.startswith('_'): continue\n",
    "    #if isinstance(globals()[name], np.ndarray):\n",
    "    print(name, type(globals()[name]))"
   ]
  },
  {
   "cell_type": "code",
   "execution_count": 68,
   "metadata": {},
   "outputs": [
    {
     "name": "stdout",
     "output_type": "stream",
     "text": [
      "________________________________________________________________________________\n",
      "[Memory] Calling __main__-C%3A-Users-nikosk.REDMOND-Desktop-projects-pycharm-opebet-%3Cipython-input-ddb79f39b99e%3E.get_more_data...\n",
      "get_more_data()\n",
      "__________________________________________________get_more_data - 120.5s, 2.0min\n"
     ]
    }
   ],
   "source": [
    "@mem.cache\n",
    "def get_more_data():\n",
    "    data = load_svmlight_file(\"/Users/nikosk.REDMOND/Downloads/xab\")\n",
    "    return data[0], data[1]\n",
    "\n",
    "X, y = get_more_data()"
   ]
  },
  {
   "cell_type": "code",
   "execution_count": null,
   "metadata": {},
   "outputs": [],
   "source": [
    "from scipy.special import softmax\n",
    "\n",
    "class behavior_policy(object):\n",
    "    def __init__(self, name):\n",
    "        with np.load(name) as npz:\n",
    "            self.v = npz['v']\n",
    "            self.w = npz['wlin']\n",
    "        k = self.w.shape[1]\n",
    "        self.u = np.ones(k)/k\n",
    "        self.m = 0.9\n",
    "        \n",
    "    def __call__(self, x):\n",
    "        t = self.m*softmax((x @ self.v) @ self.w, axis=-1)+(1-self.m)*self.u\n",
    "        t /= t.sum(axis=-1, keepdims=1)\n",
    "        return np.squeeze(t)\n",
    "    \n",
    "class eval_policy(object):\n",
    "    def __init__(self, name):\n",
    "        with np.load(name) as npz:\n",
    "            self.v = npz['v']\n",
    "            self.f = npz['omega']\n",
    "            self.b = npz['b']\n",
    "            self.z = npz['z']\n",
    "            self.w = npz['w']\n",
    "        \n",
    "    def __call__(self, x):\n",
    "        rff = ((x/255.) @ self.v) @ self.f + self.b\n",
    "        np.cos(rff, out=rff)\n",
    "        rff *= self.z\n",
    "        t = softmax(rff @ self.w, axis=-1)\n",
    "        t /= t.sum(axis=-1, keepdims=1)\n",
    "        return np.squeeze(t)\n",
    "    \n",
    "class reward_predictor(object):\n",
    "    def __init__(self, name):\n",
    "        with np.load(name) as npz:\n",
    "            self.v = npz['v']\n",
    "            self.f = npz['omega']\n",
    "            self.b = npz['b']\n",
    "            self.z = npz['z']\n",
    "            self.q = npz['q']\n",
    "        \n",
    "    def __call__(self, x):\n",
    "        rff = ((x/255.) @ self.v) @ self.f + self.b\n",
    "        np.cos(rff, out=rff)\n",
    "        rff *= self.z\n",
    "        t = expit(rff @ self.q)\n",
    "        return np.squeeze(t)\n",
    "\n",
    "h = behavior_policy('mnist_models.npz')\n",
    "pi = eval_policy('mnist_models.npz')\n",
    "q = reward_predictor('mnist_models.npz')"
   ]
  },
  {
   "cell_type": "code",
   "execution_count": 135,
   "metadata": {},
   "outputs": [],
   "source": [
    "wr = []\n",
    "for xi,yi in tqdm.tqdm(zip(X,y),total=y.size, ncols=80):\n",
    "    hxi = h(xi)\n",
    "    ai = np.random.choice(10,p=hxi)\n",
    "    ri = 1 if ai == yi else 0\n",
    "    pxi = pi(xi)\n",
    "    qxi = q(xi)\n",
    "    wi = pxi[ai]/hxi[ai]\n",
    "    cv = wi*qxi[ai]-np.dot(pxi,qxi)\n",
    "    wr.append((wi,ri,cv))"
   ]
  },
  {
   "cell_type": "code",
   "execution_count": 124,
   "metadata": {},
   "outputs": [
    {
     "data": {
      "text/plain": [
       "0.0"
      ]
     },
     "execution_count": 124,
     "metadata": {},
     "output_type": "execute_result"
    }
   ],
   "source": [
    "wrc=np.array(wr)\n",
    "import pickle\n",
    "#with open('wrc.pkl','wb') as pkl:\n",
    "#    pickle.dump(wr,pkl)\n",
    "    \n",
    "with open('wrc.pkl','rb') as pkl:\n",
    "    wr2 = pickle.load(pkl)\n",
    "\n",
    "wrc2 = np.array(wr2)\n",
    "np.linalg.norm(wrc - wrc2,'fro')"
   ]
  },
  {
   "cell_type": "code",
   "execution_count": 107,
   "metadata": {
    "scrolled": true
   },
   "outputs": [
    {
     "data": {
      "text/plain": [
       "array([ 0.99770687,  0.765664  , -0.00215478])"
      ]
     },
     "execution_count": 107,
     "metadata": {},
     "output_type": "execute_result"
    }
   ],
   "source": [
    "np.mean(wrc,axis=0)"
   ]
  },
  {
   "cell_type": "code",
   "execution_count": 157,
   "metadata": {},
   "outputs": [
    {
     "data": {
      "text/plain": [
       "0.9384672012222802"
      ]
     },
     "execution_count": 157,
     "metadata": {},
     "output_type": "execute_result"
    }
   ],
   "source": [
    "np.mean(wrc[:,0]*wrc[:,1]-1.05*wrc[:,2])"
   ]
  },
  {
   "cell_type": "code",
   "execution_count": 146,
   "metadata": {},
   "outputs": [
    {
     "name": "stderr",
     "output_type": "stream",
     "text": [
      "100%|███████████████████████████████████████████████████████████████████████████████████████████████████████████████████| 1000/1000 [00:52<00:00, 19.13it/s]\n"
     ]
    }
   ],
   "source": [
    "chunk = 1000\n",
    "reward_pi = 0\n",
    "reward_h = 0\n",
    "iy = y.astype(np.int32)\n",
    "\n",
    "for i in tqdm.trange(0,1000000,chunk):\n",
    "    probs = pi(X[i:i+chunk])\n",
    "    reward_pi += np.sum(probs[range(chunk),iy[i:i+chunk]])\n",
    "    probs = h(X[i:i+chunk])\n",
    "    reward_h += np.sum(probs[range(chunk),iy[i:i+chunk]])"
   ]
  },
  {
   "cell_type": "code",
   "execution_count": 147,
   "metadata": {},
   "outputs": [
    {
     "name": "stdout",
     "output_type": "stream",
     "text": [
      "pi on-policy reward: 0.9384872605037115\n",
      "h  on-policy reward: 0.7660206690954457\n"
     ]
    }
   ],
   "source": [
    "print('pi on-policy reward:',reward_pi/y.size)\n",
    "print('h  on-policy reward:',reward_h/y.size)"
   ]
  },
  {
   "cell_type": "code",
   "execution_count": 169,
   "metadata": {},
   "outputs": [
    {
     "data": {
      "text/plain": [
       "10.704865452558229"
      ]
     },
     "execution_count": 169,
     "metadata": {},
     "output_type": "execute_result"
    }
   ],
   "source": [
    "np.var(wrc[:,0]*wrc[:,1]-0*wrc[:,2])"
   ]
  },
  {
   "cell_type": "code",
   "execution_count": 176,
   "metadata": {
    "scrolled": true
   },
   "outputs": [
    {
     "name": "stdout",
     "output_type": "stream",
     "text": [
      "0.0 1.0\n",
      "0.5 3.04\n",
      "1.0 13.17\n",
      "1.05 13.6\n",
      "1.1 13.28\n",
      "2.0 1.22\n",
      "3.0 0.31\n"
     ]
    }
   ],
   "source": [
    "for t in 0.0,0.5,1.0,1.05,1.1,2.0,3.0:\n",
    "    print(t,np.round(np.var(wrc[:,0]*wrc[:,1])/np.var(wrc[:,0]*wrc[:,1]-t*wrc[:,2]),2))"
   ]
  },
  {
   "cell_type": "code",
   "execution_count": 186,
   "metadata": {},
   "outputs": [
    {
     "data": {
      "text/plain": [
       "array([[ 0.  , -1.  ],\n",
       "       [ 0.  , -1.  ],\n",
       "       [ 0.  , -1.  ],\n",
       "       ...,\n",
       "       [99.02, 96.9 ],\n",
       "       [99.65, 98.52],\n",
       "       [99.98, 98.96]])"
      ]
     },
     "execution_count": 186,
     "metadata": {},
     "output_type": "execute_result"
    }
   ],
   "source": [
    "perm = np.argsort(wrc[:10000,0])\n",
    "np.round(wrc[:10000][perm][:,[0,2]],2)"
   ]
  },
  {
   "cell_type": "code",
   "execution_count": 474,
   "metadata": {},
   "outputs": [],
   "source": []
  },
  {
   "cell_type": "code",
   "execution_count": 547,
   "metadata": {},
   "outputs": [
    {
     "name": "stdout",
     "output_type": "stream",
     "text": [
      "[(-1.0, -1.0), (-1.0, 0.0), (-1.0, 1.0), (0.0, -1.0), (0.0, 0.0), (0.0, 1.0), (99.0, -100.0), (99.0, -99.0), (99.0, -1.0), (99.0, 0.0), (99.0, 1.0), (99.0, 99.0), (99.0, 100.0)]\n",
      "1+-1.0*x+y*(0.0-v)>=0\n",
      "1+-1.0*x+y*(1.0-v)>=0\n",
      "1+0.0*x+y*(0.0-v)>=0\n",
      "1+0.0*x+y*(1.0-v)>=0\n",
      "1+99.0*x+y*(-99.0-v)>=0\n",
      "1+99.0*x+y*(0.0-v)>=0\n",
      "1+99.0*x+y*(1.0-v)>=0\n",
      "1+99.0*x+y*(100.0-v)>=0\n",
      "[(-1, -100), (-1, -99), (-1, 0), (-1, 1), (99, -100), (99, -99), (99, 0), (99, 1), (99, 100), (99, 101)]\n",
      "1+(-1.0)*x+y*(-1.0)>=0\n",
      "1+(-1.0)*x+y*(0.0)>=0\n",
      "1+(-1.0)*x+y*(1.0)>=0\n",
      "1+(0.0)*x+y*(-1.0)>=0\n",
      "1+(0.0)*x+y*(0.0)>=0\n",
      "1+(0.0)*x+y*(1.0)>=0\n",
      "1+(99.0)*x+y*(-100.0)>=0\n",
      "1+(99.0)*x+y*(-99.0)>=0\n",
      "1+(99.0)*x+y*(-1.0)>=0\n",
      "1+(99.0)*x+y*(0.0)>=0\n",
      "1+(99.0)*x+y*(1.0)>=0\n",
      "1+(99.0)*x+y*(99.0)>=0\n",
      "1+(99.0)*x+y*(100.0)>=0\n"
     ]
    }
   ],
   "source": []
  },
  {
   "cell_type": "code",
   "execution_count": 461,
   "metadata": {},
   "outputs": [],
   "source": []
  },
  {
   "cell_type": "code",
   "execution_count": 234,
   "metadata": {},
   "outputs": [],
   "source": [
    "import cvxpy as cp"
   ]
  },
  {
   "cell_type": "code",
   "execution_count": 460,
   "metadata": {},
   "outputs": [
    {
     "name": "stdout",
     "output_type": "stream",
     "text": [
      "[-1. -1. -1.] -0.9999999834570823\n",
      "[-1. -1.  0.] -0.9999999834051565\n",
      "[ 0. -1. -1.] -0.9999999834576057\n",
      "[ 0. -1.  0.] -0.9999999834027733\n",
      "[ 0. 99. -1.] -0.9999999921714251\n",
      "[  0.  99. 100.] -0.9999999917600422\n",
      "[99. 99. -1.] -0.9999999921713894\n",
      "[ 99.  99. 100.] -0.9999999917619511\n",
      "[ 0.  0. -1.] 5.686443538266417e-10\n",
      "[0. 0. 0.] 1.0\n",
      "[0. 0. 1.] 5.721119133994534e-10\n",
      "[ 0. 99.  0.] 1.901335755505329e-10\n",
      "[ 0. 99. 99.] 1.930569037966734e-10\n",
      "[99. 99.  0.] 1.9013191021599596e-10\n",
      "[99. 99. 99.] 1.9304813303477886e-10\n"
     ]
    }
   ],
   "source": []
  },
  {
   "cell_type": "code",
   "execution_count": 466,
   "metadata": {},
   "outputs": [
    {
     "name": "stdout",
     "output_type": "stream",
     "text": [
      "[-1.  0.] -inf\n",
      "[-1.  1.] 6.992992851451163e-10\n",
      "[0. 0.] 1.0\n",
      "[0. 1.] 0.7487437203436901\n",
      "[ 99. -99.] -inf\n",
      "[99.  0.] 0.4999999999650564\n",
      "[99.  1.] 0.4999999999653658\n",
      "[ 99. 100.] -48.99999998526398\n"
     ]
    }
   ],
   "source": []
  },
  {
   "cell_type": "code",
   "execution_count": 578,
   "metadata": {},
   "outputs": [],
   "source": [
    "import opebetrp\n",
    "\n",
    "def bet_3d(data, wmin, wmax, alpha):\n",
    "    lb, ub = opebetrp.wealth_lb_3d(data, wmin, wmax, alpha)\n",
    "    return np.array(lb), np.array(ub)\n",
    "\n",
    "def bet_rp(data, wmin, wmax, alpha):\n",
    "    lb, ub = opebetrp.wealth_lb_rp(data, wmin, wmax, alpha)\n",
    "    return np.array(lb), np.array(ub)\n",
    "\n",
    "def bet_double_rp(data, wmin, wmax, alpha):\n",
    "    lb, ub = opebetrp.wealth_lb_rp_double_hedge(data, wmin, wmax, alpha)\n",
    "    return np.array(lb), np.array(ub)"
   ]
  },
  {
   "cell_type": "code",
   "execution_count": 599,
   "metadata": {},
   "outputs": [],
   "source": [
    "import opebet\n",
    "\n",
    "def bet_2d(data, wmin, wmax, alpha):\n",
    "    lb, ub = opebet.wealth_lb_2d(data, wmin, wmax, alpha)\n",
    "    return np.array(lb), np.array(ub)"
   ]
  },
  {
   "cell_type": "code",
   "execution_count": 608,
   "metadata": {},
   "outputs": [
    {
     "name": "stdout",
     "output_type": "stream",
     "text": [
      "0.970970970970971\n",
      "0.96996996996997\n",
      "0.963963963963964\n",
      "0.968968968968969\n",
      "0.96996996996997\n"
     ]
    }
   ],
   "source": [
    "wrcflass = np.copy(wrc[:,0:2])\n",
    "flb = 0\n",
    "fub = 0\n",
    "N = 5\n",
    "for i in range(N):\n",
    "    lb, ub = bet_2d(wrcflass[10000*i:10000*(i+1)], 0, 100, 0.001)\n",
    "    print(ub[-1])\n",
    "    flb = flb + lb\n",
    "    fub = fub + ub\n",
    "lb = flb/N\n",
    "ub = fub/N"
   ]
  },
  {
   "cell_type": "code",
   "execution_count": 612,
   "metadata": {
    "scrolled": true
   },
   "outputs": [
    {
     "name": "stderr",
     "output_type": "stream",
     "text": [
      "100%|█████████████████████████████████████| 10000/10000 [03:19<00:00, 50.12it/s]\n",
      "100%|█████████████████████████████████████| 10000/10000 [03:02<00:00, 54.79it/s]\n",
      "100%|█████████████████████████████████████| 10000/10000 [02:56<00:00, 56.78it/s]\n",
      "100%|█████████████████████████████████████| 10000/10000 [03:02<00:00, 54.82it/s]\n",
      "100%|█████████████████████████████████████| 10000/10000 [02:58<00:00, 56.12it/s]\n"
     ]
    }
   ],
   "source": [
    "wrcalt = np.copy(wrc)\n",
    "flb = 0\n",
    "fub = 0\n",
    "for i in range(N):\n",
    "    lbalt, ubalt = bet_3d(wrcalt[10000*i:10000*(i+1)], 0, 100, 0.001)\n",
    "    flb = flb + lbalt\n",
    "    fub = fub + ubalt\n",
    "lbalt = flb/N\n",
    "ubalt = fub/N"
   ]
  },
  {
   "cell_type": "code",
   "execution_count": 583,
   "metadata": {
    "scrolled": false
   },
   "outputs": [
    {
     "name": "stderr",
     "output_type": "stream",
     "text": [
      "100%|█████████████████████████████████████| 10000/10000 [06:43<00:00, 24.75it/s]\n",
      "100%|█████████████████████████████████████| 10000/10000 [06:43<00:00, 24.78it/s]\n",
      "100%|█████████████████████████████████████| 10000/10000 [05:59<00:00, 27.85it/s]\n",
      "100%|█████████████████████████████████████| 10000/10000 [08:06<00:00, 20.57it/s]\n",
      "100%|█████████████████████████████████████| 10000/10000 [07:24<00:00, 22.48it/s]\n"
     ]
    }
   ],
   "source": [
    "wrcdouble = np.copy(wrc)\n",
    "flb = 0\n",
    "fub = 0\n",
    "M = 5\n",
    "for i in range(M):\n",
    "    lbhalf, ubhalf = bet_double_rp(wrcdouble[10000*i:10000*(i+1)], 0, 100, 0.001)\n",
    "    flb = flb + lbhalf\n",
    "    fub = fub + ubhalf\n",
    "lbhalf = flb/M\n",
    "ubhalf = fub/M"
   ]
  },
  {
   "cell_type": "code",
   "execution_count": 615,
   "metadata": {},
   "outputs": [
    {
     "data": {
      "text/plain": [
       "[None]"
      ]
     },
     "execution_count": 615,
     "metadata": {},
     "output_type": "execute_result"
    },
    {
     "data": {
      "image/png": "[encoded data removed]",
      "text/plain": [
       "<Figure size 432x288 with 1 Axes>"
      ]
     },
     "metadata": {
      "needs_background": "light"
     },
     "output_type": "display_data"
    }
   ],
   "source": [
    "%matplotlib inline\n",
    "import matplotlib.pyplot as plt\n",
    "fig, ax = plt.subplots()\n",
    "t = 1+np.arange(len(lb))\n",
    "talt = 1+np.arange(len(lbalt))\n",
    "thalf = 1+np.arange(len(lbhalf))\n",
    "ax.plot(t,lb,'b-',)\n",
    "ax.plot(t,ub,'b-')\n",
    "ax.plot(talt,lbalt,'r-')\n",
    "ax.plot(talt,ubalt,'r-')\n",
    "ax.plot(thalf,lbhalf,'m-')\n",
    "ax.plot(thalf,ubhalf,'m-')\n",
    "truth = 0.9384872605037115*np.ones_like(lb)\n",
    "ax.plot(t,truth,'k--')\n",
    "ax.set(xscale='log')"
   ]
  },
  {
   "cell_type": "code",
   "execution_count": 674,
   "metadata": {},
   "outputs": [
    {
     "data": {
      "image/png": "[encoded data removed]",
      "text/plain": [
       "<Figure size 1200x800 with 1 Axes>"
      ]
     },
     "metadata": {
      "needs_background": "light"
     },
     "output_type": "display_data"
    }
   ],
   "source": [
    "%matplotlib inline\n",
    "import matplotlib.pyplot as plt\n",
    "from matplotlib.cm import get_cmap    \n",
    "fig, ax = plt.subplots(dpi=200)\n",
    "colors = get_cmap(\"tab10\").colors \n",
    "#ax.set_prop_cycle(color=colors)\n",
    "t = 1+np.arange(len(lb))\n",
    "talt = 1+np.arange(len(lbalt))\n",
    "\n",
    "d1 = dict(linestyle='-', marker='s', markevery=(0.00,0.12), color=colors[0], linewidth=2.0)\n",
    "d2 = dict(linestyle='-', marker='d', markevery=(0.04,0.12), color=colors[1], linewidth=2.0)\n",
    "d3 = dict(linestyle='-', marker='o', markevery=(0.08,0.12), color=colors[2], linewidth=2.0)\n",
    "#marker='o', linestyle='dashed'\n",
    "j=1\n",
    "ax.plot(talt,lbalt,**d1, label='with reward predictor')\n",
    "ax.plot(talt,ubalt,**d1)\n",
    "ax.plot(t,lb,**d2, label='no reward predictor')\n",
    "ax.plot(t,ub,**d2)\n",
    "ax.plot(thalf,lbhalf,**d3, label='double hedging')\n",
    "ax.plot(thalf,ubhalf,**d3)\n",
    "truth = 0.9384872605037115*np.ones_like(lb)\n",
    "ax.plot(t,truth,'k--', label='$V(\\pi)$')\n",
    "ax.set(xscale='log',xlim=[20,11000], ylim=[0.5,1.01], xlabel='samples', ylabel='reward')\n",
    "ax.legend(loc='lower right')\n",
    "fig.savefig('predictor.pdf', bbox_inches='tight', pad_inches=0)"
   ]
  },
  {
   "cell_type": "code",
   "execution_count": 505,
   "metadata": {},
   "outputs": [],
   "source": [
    "import opebetrp\n",
    "\n",
    "def bet_gd(data, wmin, wmax, alpha):\n",
    "    lb, ub = opebetrp.wealth_lb_gd(data, wmin, wmax, alpha)\n",
    "    return np.array(lb), np.array(ub)"
   ]
  },
  {
   "cell_type": "code",
   "execution_count": 515,
   "metadata": {},
   "outputs": [
    {
     "name": "stderr",
     "output_type": "stream",
     "text": [
      "100%|█████████████████████████████████████| 10000/10000 [02:44<00:00, 60.75it/s]\n",
      "100%|█████████████████████████████████████| 10000/10000 [03:04<00:00, 54.31it/s]\n",
      "100%|█████████████████████████████████████| 10000/10000 [03:06<00:00, 53.56it/s]\n",
      "100%|█████████████████████████████████████| 10000/10000 [03:07<00:00, 53.32it/s]\n",
      "100%|█████████████████████████████████████| 10000/10000 [02:58<00:00, 55.93it/s]\n"
     ]
    }
   ],
   "source": [
    "wrgd = np.copy(wrc[:,0:2])\n",
    "\n",
    "flb = 0\n",
    "fub = 0\n",
    "for i in range(N):\n",
    "    lbgd, ubgd = bet_gd(wrgd[10000*i:10000*(i+1)], 0, 100, 0.01)\n",
    "    flb = flb + lbgd\n",
    "    fub = fub + ubgd\n",
    "lbgd = flb/N\n",
    "ubgd = fub/N"
   ]
  },
  {
   "cell_type": "code",
   "execution_count": 536,
   "metadata": {
    "scrolled": true
   },
   "outputs": [
    {
     "data": {
      "image/png": "[encoded data removed]",
      "text/plain": [
       "<Figure size 1200x800 with 1 Axes>"
      ]
     },
     "metadata": {
      "needs_background": "light"
     },
     "output_type": "display_data"
    }
   ],
   "source": [
    "%matplotlib inline\n",
    "import matplotlib.pyplot as plt\n",
    "from matplotlib.cm import get_cmap    \n",
    "fig, ax = plt.subplots(dpi=200)\n",
    "colors = get_cmap(\"tab10\").colors \n",
    "j=7\n",
    "t = 1+np.arange(len(lbgd))\n",
    "ax.plot(t,lbgd,'-',color=colors[0],linewidth=2.5, label='CS for $V(\\pi)-V(h)$')\n",
    "ax.plot(t,ubgd,'-',color=colors[0],linewidth=2.5)\n",
    "ax.plot(t,0.1724665914082657*np.ones_like(t),'k--', label='True $V(\\pi)-V(h)$')\n",
    "ax.plot(t,np.zeros_like(t),':',color=colors[j])\n",
    "ax.plot(np.argmax(lbgd>0)*np.ones_like(t),np.linspace(-1,1,len(t)),':',color=colors[j])\n",
    "ax.set(xscale='log',xlim=[20,11000], xlabel='samples', ylabel='reward difference')\n",
    "ax.legend(loc='lower right')\n",
    "fig.savefig('gd.pdf', bbox_inches='tight', pad_inches=0)"
   ]
  },
  {
   "cell_type": "code",
   "execution_count": 517,
   "metadata": {},
   "outputs": [
    {
     "data": {
      "text/plain": [
       "657"
      ]
     },
     "execution_count": 517,
     "metadata": {},
     "output_type": "execute_result"
    }
   ],
   "source": [
    "np.argmax(lbgd>0)"
   ]
  },
  {
   "cell_type": "code",
   "execution_count": 518,
   "metadata": {},
   "outputs": [
    {
     "name": "stdout",
     "output_type": "stream",
     "text": [
      "reward diff: 0.1724665914082657\n"
     ]
    }
   ],
   "source": [
    "print('reward diff:',reward_pi/y.size-reward_h/y.size)"
   ]
  },
  {
   "cell_type": "code",
   "execution_count": 545,
   "metadata": {},
   "outputs": [
    {
     "name": "stdout",
     "output_type": "stream",
     "text": [
      "0.9760183750532692 0\n",
      "10.704865452558229 0\n",
      "0.6601372970811202 0.5\n",
      "3.5259380487449734 0.5\n",
      "0.8128312787244716 1\n",
      "0.8128312787244716 1\n",
      "0.8538723051676598 1.05\n",
      "0.7871407365810239 1.05\n"
     ]
    }
   ],
   "source": [
    "for s in 0,0.5,1,1.05:\n",
    "    print(np.var(wrc[:,0]*(1-wrc[:,1])-s*(wrc[:,0]-1-wrc[:,2])),s)\n",
    "    print(np.var(wrc[:,0]*(wrc[:,1])-s*(wrc[:,2])),s)"
   ]
  },
  {
   "cell_type": "code",
   "execution_count": 575,
   "metadata": {},
   "outputs": [
    {
     "data": {
      "text/plain": [
       "10.445515171499089"
      ]
     },
     "execution_count": 575,
     "metadata": {},
     "output_type": "execute_result"
    }
   ],
   "source": [
    "np.var(wrc[:,0]*wrc[:,1]-wrc[:,1])"
   ]
  },
  {
   "cell_type": "code",
   "execution_count": null,
   "metadata": {},
   "outputs": [],
   "source": [
    "np.var(wrc[:,0]*wrc[:,1]-wrc[:,1])"
   ]
  },
  {
   "cell_type": "code",
   "execution_count": 675,
   "metadata": {},
   "outputs": [
    {
     "name": "stderr",
     "output_type": "stream",
     "text": [
      "100%|███████████████████████████████████████████████████████████████████████████████████████████████████████████████████████| 50/50 [00:02<00:00, 16.96it/s]\n"
     ]
    }
   ],
   "source": [
    "chunk = 1000\n",
    "r_pi = []\n",
    "r_h = []\n",
    "iy = y.astype(np.int32)\n",
    "\n",
    "for i in tqdm.trange(0,50000,chunk):\n",
    "    probs = pi(X[i:i+chunk])\n",
    "    r_pi.extend(probs[range(chunk),iy[i:i+chunk]])\n",
    "    probs = h(X[i:i+chunk])\n",
    "    r_h.extend(probs[range(chunk),iy[i:i+chunk]])"
   ]
  },
  {
   "cell_type": "code",
   "execution_count": 679,
   "metadata": {},
   "outputs": [
    {
     "data": {
      "text/plain": [
       "array([-0.08912378, -0.08870832, -0.07559895, ..., -0.08800939,\n",
       "       -0.08936906, -0.08555314])"
      ]
     },
     "execution_count": 679,
     "metadata": {},
     "output_type": "execute_result"
    }
   ],
   "source": [
    "np.array(r_h)-np.array(r_pi)"
   ]
  },
  {
   "cell_type": "code",
   "execution_count": 702,
   "metadata": {},
   "outputs": [],
   "source": [
    "def bet_1d(data_pi, data_h, wmin, wmax, alpha):\n",
    "    half_pi = data_pi[:len(data_pi)//2]\n",
    "    w = np.ones_like(half_pi)\n",
    "    half_h = data_h[len(data_pi)//2:2*(len(data_pi)//2)]\n",
    "    lb_pi, ub_pi = opebet.wealth_lb_1d(np.stack((w,half_pi), axis=-1), wmin, wmax, 0.5*alpha)\n",
    "    lb_h, ub_h = opebet.wealth_lb_1d(np.stack((w,half_h), axis=-1), wmin, wmax, 0.5*alpha)\n",
    "    return np.array(lb_pi)-np.array(ub_h), np.array(ub_pi)-np.array(lb_h)\n",
    "\n",
    "def upsample(x):\n",
    "    c = np.empty((2 * x.size - 1,), dtype=x.dtype)\n",
    "    c[0::2] = x\n",
    "    c[1:-1:2] = 0.5*(x[:-1]+x[1:])\n",
    "    return c"
   ]
  },
  {
   "cell_type": "code",
   "execution_count": 712,
   "metadata": {},
   "outputs": [],
   "source": [
    "flb = 0\n",
    "fub = 0\n",
    "N = 5\n",
    "for i in range(N):\n",
    "    lbab, ubab = bet_1d(r_pi[10000*i:10000*(i+1)], r_h[10000*i:10000*(i+1)], 0, 2, 0.01)\n",
    "    lbab = upsample(lbab)\n",
    "    ubab = upsample(ubab)\n",
    "    flb = flb + lbab\n",
    "    fub = fub + ubab\n",
    "lbab = flb/N\n",
    "ubab = fub/N"
   ]
  },
  {
   "cell_type": "code",
   "execution_count": 719,
   "metadata": {},
   "outputs": [
    {
     "data": {
      "image/png": "[encoded data removed]",
      "text/plain": [
       "<Figure size 1200x800 with 1 Axes>"
      ]
     },
     "metadata": {
      "needs_background": "light"
     },
     "output_type": "display_data"
    }
   ],
   "source": [
    "%matplotlib inline\n",
    "import matplotlib.pyplot as plt\n",
    "from matplotlib.cm import get_cmap    \n",
    "fig, ax = plt.subplots(dpi=200)\n",
    "colors = get_cmap(\"tab10\").colors \n",
    "j=7\n",
    "t = 1+np.arange(len(lbgd))\n",
    "ta = 1+np.arange(len(lbab))\n",
    "ax.plot(t,0.1724665914082657*np.ones_like(t),'k--', label='True $V(\\pi)-V(h)$')\n",
    "ax.plot(t,lbgd,'-',color=colors[0],linewidth=2.5, label='Off-Policy CS')\n",
    "ax.plot(t,ubgd,'-',color=colors[0],linewidth=2.5)\n",
    "ax.plot(ta,lbab,'-.',color=colors[1],linewidth=2.5, label='On Policy CS (A/B)')\n",
    "ax.plot(ta,ubab,'-.',color=colors[1],linewidth=2.5)\n",
    "\n",
    "ax.plot(t,np.zeros_like(t),':',color=colors[j])\n",
    "ax.plot(np.argmax(lbgd>0)*np.ones_like(t),np.linspace(-1,1,len(t)),':',color=colors[j])\n",
    "ax.set(xscale='log',xlim=[20,11000], xlabel='samples', ylabel='reward difference')\n",
    "ax.legend(loc='lower right')\n",
    "fig.savefig('gd2.pdf', bbox_inches='tight', pad_inches=0)"
   ]
  },
  {
   "cell_type": "code",
   "execution_count": 711,
   "metadata": {},
   "outputs": [
    {
     "data": {
      "text/plain": [
       "656"
      ]
     },
     "execution_count": 711,
     "metadata": {},
     "output_type": "execute_result"
    }
   ],
   "source": [
    "np.argmax(lbab>0)"
   ]
  },
  {
   "cell_type": "code",
   "execution_count": 695,
   "metadata": {},
   "outputs": [
    {
     "data": {
      "text/plain": [
       "24999"
      ]
     },
     "execution_count": 695,
     "metadata": {},
     "output_type": "execute_result"
    }
   ],
   "source": []
  },
  {
   "cell_type": "code",
   "execution_count": 696,
   "metadata": {},
   "outputs": [
    {
     "data": {
      "text/plain": [
       "25000"
      ]
     },
     "execution_count": 696,
     "metadata": {},
     "output_type": "execute_result"
    }
   ],
   "source": [
    "len(lbab)"
   ]
  },
  {
   "cell_type": "code",
   "execution_count": 701,
   "metadata": {},
   "outputs": [
    {
     "data": {
      "text/plain": [
       "array([0. , 0.5, 1. , 1.5, 2. , 2.5, 3. ])"
      ]
     },
     "execution_count": 701,
     "metadata": {},
     "output_type": "execute_result"
    }
   ],
   "source": [
    "\n",
    "upsample(np.arange(4.0))"
   ]
  },
  {
   "cell_type": "code",
   "execution_count": null,
   "metadata": {},
   "outputs": [],
   "source": []
  }
 ],
 "metadata": {
  "kernelspec": {
   "display_name": "Python 3",
   "language": "python",
   "name": "python3"
  },
  "language_info": {
   "codemirror_mode": {
    "name": "ipython",
    "version": 3
   },
   "file_extension": ".py",
   "mimetype": "text/x-python",
   "name": "python",
   "nbconvert_exporter": "python",
   "pygments_lexer": "ipython3",
   "version": "3.7.9"
  }
 },
 "nbformat": 4,
 "nbformat_minor": 4
}
